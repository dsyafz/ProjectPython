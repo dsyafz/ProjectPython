{
  "nbformat": 4,
  "nbformat_minor": 0,
  "metadata": {
    "colab": {
      "provenance": [],
      "authorship_tag": "ABX9TyMJXFh+DAQhl1biAOcQ78mF",
      "include_colab_link": true
    },
    "kernelspec": {
      "name": "python3",
      "display_name": "Python 3"
    },
    "language_info": {
      "name": "python"
    }
  },
  "cells": [
    {
      "cell_type": "markdown",
      "metadata": {
        "id": "view-in-github",
        "colab_type": "text"
      },
      "source": [
        "<a href=\"https://colab.research.google.com/github/dsyafz/ProjectPython/blob/main/Python%20Project%20-%20Cashier.ipynb\" target=\"_parent\"><img src=\"https://colab.research.google.com/assets/colab-badge.svg\" alt=\"Open In Colab\"/></a>"
      ]
    },
    {
      "cell_type": "code",
      "execution_count": null,
      "metadata": {
        "colab": {
          "base_uri": "https://localhost:8080/"
        },
        "id": "SsPCTtMEcxp-",
        "outputId": "bc121ec2-7e8d-4bb7-be5e-b7c462f55c55"
      },
      "outputs": [
        {
          "output_type": "stream",
          "name": "stdout",
          "text": [
            "Selamat datang di Andi Store!\n",
            "----------Daftar Barang----------\n",
            "| KODE BARANG   | ITEM       |   HARGA |\n",
            "|---------------+------------+---------|\n",
            "| A1            | TEPUNG     |    5000 |\n",
            "| A2            | MINYAK     |   30000 |\n",
            "| A3            | GULA       |   12000 |\n",
            "| B1            | SABUN      |    6000 |\n",
            "| B2            | SHAMPOO    |   14000 |\n",
            "| B3            | PASTA GIGI |    8000 |\n",
            "| C1            | INDOMIE    |    4000 |\n",
            "| C2            | SEREAL     |   14000 |\n",
            "| C1            | BIHUN      |    6000 |\n"
          ]
        }
      ],
      "source": [
        "from tabulate import tabulate\n",
        "\n",
        "#menampilkan daftar barang di toko\n",
        "print(\"Selamat datang di Andi Store!\")\n",
        "print(\"----------Daftar Barang----------\")\n",
        "print(tabulate([[\"A1\", \"TEPUNG\", 5000],\n",
        "               [\"A2\", \"MINYAK\", 30000],\n",
        "               [\"A3\", \"GULA\", 12000],\n",
        "               [\"B1\", \"SABUN\", 6000],\n",
        "               [\"B2\", \"SHAMPOO\", 14000],\n",
        "               [\"B3\", \"PASTA GIGI\", 8000],\n",
        "               [\"C1\", \"INDOMIE\", 4000],\n",
        "               [\"C2\", \"SEREAL\", 14000],\n",
        "               [\"C1\", \"BIHUN\", 6000],\n",
        "               ], headers=['KODE BARANG', 'ITEM', 'HARGA'], tablefmt='orgtbl'))\n",
        "\n",
        "\n",
        "def main():\n",
        "#fungsi untuk menampilkan list barang\n",
        "    items = {\n",
        "        'A1': {'name': 'TEPUNG', 'price': 5000},\n",
        "        'A2': {'name': 'MINYAK', 'price': 30000},\n",
        "        'A3': {'name': 'GULA', 'price': 12000},\n",
        "        'B1': {'name': 'SABUN', 'price': 6000},\n",
        "        'B2': {'name': 'SHAMPOO', 'price': 14000},\n",
        "        'B3': {'name': 'PASTA GIGI', 'price': 8000},\n",
        "        'C1': {'name': 'INDOMIE', 'price': 4000},\n",
        "        'C2': {'name': 'SEREAL', 'price': 14000},\n",
        "        'C3': {'name': 'BIHUN', 'price': 6000}\n",
        "    }\n",
        "     \n",
        "    grocery_list = []\n",
        "    total = 0\n",
        "\n",
        "    while True:\n",
        "    #Loop untuk customer input kode barang dan jumlah barang\n",
        "        code = input(\"Masukkan kode barang (ketik 'done' jika sudah, ketik 'cancel' untuk membatalkan): \")\n",
        "        if code == 'done':\n",
        "            break\n",
        "\n",
        "        if code == 'cancel':\n",
        "            print(\"Transaksi dibatalkan.\")\n",
        "            return\n",
        "\n",
        "        if code not in items:\n",
        "            print(\"Error: Kode barang salah.\")\n",
        "            continue\n",
        "\n",
        "        item = items[code]\n",
        "        quantity = int(input(\"Masukkan jumlah: \"))\n",
        "        grocery_list.append({'name': item['name'], 'quantity': quantity, 'price': item['price']})\n",
        "        #Penggabungan data yg diinput customer\n",
        "\n",
        "        total += quantity * item['price']\n",
        "        #Kalkulasi untuk total price sebelum diskon\n",
        "\n",
        "    if not grocery_list:\n",
        "        print(\"Transaksi dibatalkan.\")\n",
        "        return\n",
        "\n",
        "    print(\"\\nReceipt:\")\n",
        "    for item in grocery_list:\n",
        "    #Branching untuk print detail transaksi\n",
        "        print(\"%d %s @ Rp%.2f = Rp%.2f\" % (item['quantity'], item['name'], item['price'], item['quantity'] * item['price']))\n",
        "    print(\"Subtotal: Rp%.2f\" % total)\n",
        "\n",
        "    discount = 0\n",
        "    #kalkulasi untuk harga diskon\n",
        "\n",
        "    if total > 500000:\n",
        "        discount = total * 0.1\n",
        "    elif total > 300000:\n",
        "        discount = total * 0.08\n",
        "    elif total > 200000:\n",
        "        discount = total * 0.05\n",
        "    print(\"Discount: Rp%.2f\" % discount)\n",
        "\n",
        "    total = total - discount\n",
        "    #kalkulasi total belanja dikurang diskon\n",
        "\n",
        "    print(\"Total: Rp%.2f\" % total)\n",
        "\n",
        "if __name__ == '__main__':\n",
        "    main()"
      ]
    }
  ]
}